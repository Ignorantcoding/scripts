{
 "cells": [
  {
   "cell_type": "markdown",
   "metadata": {},
   "source": [
    "# Problem 1 Assignment 1\n",
    "\n",
    "In this notebook we perform an empirial analysis of the expected value of the optimal strategy for the stock trading problem.\n",
    "\n",
    "\n",
    "## Setting things up"
   ]
  },
  {
   "cell_type": "code",
   "execution_count": 29,
   "metadata": {},
   "outputs": [],
   "source": [
    "import random\n",
    "import matplotlib.pyplot as plt\n",
    "import seaborn as sns\n",
    "import math\n",
    "\n",
    "def random_instance(n):\n",
    "    \"\"\" creates random instance of size n \"\"\"\n",
    "\n",
    "    return [ random.randint(-1,1) for i in range(n) ] \n",
    "\n",
    "\n",
    "def mean_value(instance_generator, function, num_runs = 100):\n",
    "    \"\"\" run function num_runs times on generated instances, return the mean of the returned values \"\"\"\n",
    "\n",
    "    ans = 0\n",
    "    for _ in range(num_runs):\n",
    "        ans += function(instance_generator())\n",
    "\n",
    "    return ans / num_runs\n",
    "\n",
    "\n",
    "def plot_consecutive_ratios(sizes, runtimes, plotcolor='blue'):\n",
    "\n",
    "    ratios = []\n",
    "    for i in range(1,len(runtimes)):\n",
    "        ratios.append(runtimes[i] / runtimes[i-1])\n",
    "\n",
    "    x = sizes[1:len(runtimes)]\n",
    "    y = ratios \n",
    "    plt.scatter(x,y,color=plotcolor)\n",
    "    plt.xscale('log')\n",
    "    plt.xlabel('size of instance')\n",
    "    plt.ylabel('T(2n)/T(n)')\n",
    "    plt.xlim((2, 2 * max(sizes)))"
   ]
  },
  {
   "cell_type": "code",
   "execution_count": 30,
   "metadata": {},
   "outputs": [],
   "source": [
    "def naive(A):\n",
    "    \"\"\" find max A[i] + ... + A[j] : 0 <= i < j < n\"\"\"\n",
    "\n",
    "    curr_val = 0\n",
    "    curr_ans = (None, None)\n",
    "    n = len(A)\n",
    "\n",
    "    for i in range(0, n):\n",
    "        for j in range(i+1, n):\n",
    "            aux = sum(A[x] for x in range(i, j+1))\n",
    "            if aux > curr_val:\n",
    "                curr_val = aux\n",
    "                curr_ans = (i, j)\n",
    "            \n",
    "    return curr_val\n",
    "\n",
    "def preprocessing(A):\n",
    "    \"\"\" find max A[i] + ... + A[j] : 0 <= i < j < n\"\"\"\n",
    "\n",
    "    curr_val = 0\n",
    "    curr_ans = (None, None)\n",
    "    n=len(A)\n",
    "\n",
    "    # compute B[i] = A[0] + .. + A[i-1]          for 0 <= i <= n\n",
    "    B = [None] * (n+1)\n",
    "    B[0] = 0\n",
    "    for i in range(0, n):\n",
    "        B[i+1] = B[i] + A[i]\n",
    "    for i in range(0, n):\n",
    "        for j in range(i+1, n):\n",
    "            aux = B[j + 1] - B[i]\n",
    "            if aux > curr_val:\n",
    "                curr_val = aux\n",
    "                curr_ans = (i, j)\n",
    "\n",
    "    return curr_val\n",
    "\n",
    "\n",
    "def reuse_computation(A):\n",
    "    \"\"\" find max A[i] + ... + A[j] : 0 <= i < j < n\"\"\"\n",
    "\n",
    "    curr_val = 0\n",
    "    curr_ans = (None, None)\n",
    "    n=len(A)\n",
    "\n",
    "    # compute B[i] = A[0] + .. + A[i-1] \n",
    "    B = [None] * (n+1)\n",
    "    B[0] = 0\n",
    "    for i in range(0, n):\n",
    "        B[i+1] = B[i] + A[i]\n",
    "\n",
    "    #   compute C[i]= { max B[j+1] for i < j < n }    for 0 <= i < n-1\n",
    "    C = [None] * (n-1)\n",
    "    C[n-2] = B[n]\n",
    "    for i in range(n-3, -1, -1):\n",
    "        C[i] = max(C[i+1], B[i+2])\n",
    "\n",
    "    for i in range(0, n-1):\n",
    "        curr_val = max(curr_val, C[i] - B[i])\n",
    "\n",
    "    return curr_val"
   ]
  },
  {
   "cell_type": "markdown",
   "metadata": {},
   "source": [
    "## Expected value optimal strategy"
   ]
  },
  {
   "cell_type": "markdown",
   "metadata": {},
   "source": [
    "Let $T(n)$ be the expected value of the optimal strategy on a random instance of size $n$."
   ]
  },
  {
   "cell_type": "code",
   "execution_count": 85,
   "metadata": {},
   "outputs": [],
   "source": [
    "sizes = [ 2**i for i in range(1, 16)]\n",
    "T = [ mean_value(lambda : random_instance(size), reuse_computation) for size in sizes ]"
   ]
  },
  {
   "cell_type": "markdown",
   "metadata": {},
   "source": [
    "Let us plot $T(n)$ on a log-log scale. If there is a linear dependency, then probably $T(n) = \\Theta(n^\\alpha)$ for some $\\alpha >0$."
   ]
  },
  {
   "cell_type": "code",
   "execution_count": 86,
   "metadata": {},
   "outputs": [
    {
     "data": {
      "image/png": "[encoded data removed]",
      "text/plain": [
       "<Figure size 432x288 with 1 Axes>"
      ]
     },
     "metadata": {
      "needs_background": "light"
     },
     "output_type": "display_data"
    }
   ],
   "source": [
    "fig = plt.scatter(sizes, T)\n",
    "plt.xscale('log')\n",
    "plt.yscale('log')\n",
    "plt.xlabel('size of instance')\n",
    "plt.ylabel('T(n)')\n",
    "plt.xlim((2, 2 * max(sizes)))\n",
    "plt.savefig('log-log.pdf')"
   ]
  },
  {
   "cell_type": "markdown",
   "metadata": {},
   "source": [
    "It looks like there is a strong linear dependency between $\\log T(n)$ and $\\log n$. In fact it seems like $\\log T(n) \\approx 0.5 \\log n$. If that is the case then $T(n) = O(\\sqrt{n})$.\n",
    "\n",
    "If that is the case then we would expect $\\displaystyle \\lim_{n \\rightarrow \\infty} \\frac{T(2n)}{T(n)} = 2 ^{1/2} \\approx 1.41$. Which is indeed what see:"
   ]
  },
  {
   "cell_type": "code",
   "execution_count": 87,
   "metadata": {},
   "outputs": [
    {
     "data": {
      "image/png": "[encoded data removed]",
      "text/plain": [
       "<Figure size 432x288 with 1 Axes>"
      ]
     },
     "metadata": {
      "needs_background": "light"
     },
     "output_type": "display_data"
    }
   ],
   "source": [
    "plot_consecutive_ratios(sizes, T)\n",
    "plt.savefig('doubling.pdf')"
   ]
  },
  {
   "cell_type": "markdown",
   "metadata": {},
   "source": [
    "To confirm our guess, we can plot $T(n) / \\sqrt{n}$."
   ]
  },
  {
   "cell_type": "code",
   "execution_count": 88,
   "metadata": {},
   "outputs": [
    {
     "data": {
      "image/png": "[encoded data removed]",
      "text/plain": [
       "<Figure size 432x288 with 1 Axes>"
      ]
     },
     "metadata": {
      "needs_background": "light"
     },
     "output_type": "display_data"
    }
   ],
   "source": [
    "guess = lambda n: math.sqrt(n)\n",
    "ratios_linear =[T_n / guess(n) for (n, T_n) in zip(sizes, T)]\n",
    "plt.xlabel('log n')\n",
    "plt.ylabel('T(n) / sqrt(n)')\n",
    "plt.plot(ratios_linear)\n",
    "plt.savefig('guess.pdf')"
   ]
  },
  {
   "cell_type": "markdown",
   "metadata": {},
   "source": [
    "It seems like not only $T(n) = \\Theta(n^{1/2})$, but the plot suggests that $T(n) = \\sqrt{n} + o(1)$, where $o(1)$ denotes a lower order function that tends to 0 as $n \\rightarrow \\infty$."
   ]
  },
  {
   "cell_type": "code",
   "execution_count": null,
   "metadata": {},
   "outputs": [],
   "source": []
  }
 ],
 "metadata": {
  "kernelspec": {
   "display_name": "Python 3",
   "language": "python",
   "name": "python3"
  },
  "language_info": {
   "codemirror_mode": {
    "name": "ipython",
    "version": 3
   },
   "file_extension": ".py",
   "mimetype": "text/x-python",
   "name": "python",
   "nbconvert_exporter": "python",
   "pygments_lexer": "ipython3",
   "version": "3.7.3"
  }
 },
 "nbformat": 4,
 "nbformat_minor": 1
}
