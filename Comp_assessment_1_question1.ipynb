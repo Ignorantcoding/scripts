{
 "cells": [
  {
   "cell_type": "markdown",
   "metadata": {},
   "source": [
    "# Question 1 of Assignment 1"
   ]
  },
  {
   "cell_type": "markdown",
   "metadata": {},
   "source": [
    "## 1. Setting things up"
   ]
  },
  {
   "cell_type": "markdown",
   "metadata": {},
   "source": [
    "### 1.1. Creating the optimal algorithm:"
   ]
  },
  {
   "cell_type": "code",
   "execution_count": 1,
   "metadata": {},
   "outputs": [],
   "source": [
    "def reuse_computation(A):\n",
    "    \"\"\" find (i, j) maximizing A[i] + ... + A[j] \"\"\"\n",
    "\n",
    "    curr_val = 0\n",
    "    curr_ans = (None, None)\n",
    "    n=len(A)\n",
    "\n",
    "    # compute B[i] = A[0] + .. + A[i-1] \n",
    "    B = [None] * (n+1)\n",
    "    B[0] = 0\n",
    "    for i in range(0, n):\n",
    "        B[i+1] = B[i] + A[i]\n",
    "\n",
    "    #compute C[i]=maxB[j] fori<j≤n \n",
    "    C = [None] * (n + 1)\n",
    "    C[n] = (B[n], n)\n",
    "    for i in range(n-1, -1, -1):\n",
    "        if B[i] > C[i+1][0]:\n",
    "            C[i] = (B[i], i)\n",
    "        else:\n",
    "            C[i] = C[i+1]\n",
    "\n",
    "    for i in range(0, n):\n",
    "        aux = C[i][0] - B[i]\n",
    "        if aux > curr_val:\n",
    "            curr_val, curr_ans = aux, (i, C[i][1])\n",
    "\n",
    "    return curr_val"
   ]
  },
  {
   "cell_type": "markdown",
   "metadata": {},
   "source": [
    "### 1.2. Function to take n random values"
   ]
  },
  {
   "cell_type": "code",
   "execution_count": 2,
   "metadata": {},
   "outputs": [],
   "source": [
    "import random\n",
    "import matplotlib.pyplot as plt\n",
    "from math import sqrt, log\n",
    "\n",
    "def random_instance(n):\n",
    "    \"\"\" creates random instance of size n \"\"\"\n",
    "    a= [-1,0,1]\n",
    "    b=[]\n",
    "    for i in range(n):\n",
    "        b.append(random.choice(a))\n",
    "\n",
    "    return b"
   ]
  },
  {
   "cell_type": "markdown",
   "metadata": {},
   "source": [
    "## 2. Running doubling experiments"
   ]
  },
  {
   "cell_type": "markdown",
   "metadata": {},
   "source": [
    "### 2.1. First, getting n values for A"
   ]
  },
  {
   "cell_type": "code",
   "execution_count": 3,
   "metadata": {},
   "outputs": [
    {
     "name": "stdout",
     "output_type": "stream",
     "text": [
      "[4, 144, 484, 1024, 1764, 2704, 3844, 5184, 6724, 8464, 10404, 12544, 14884, 17424, 20164, 23104, 26244, 29584, 33124, 36864, 40804, 44944, 49284, 53824, 58564, 63504, 68644, 73984, 79524, 85264, 91204, 97344]\n"
     ]
    }
   ],
   "source": [
    "#sizes = [ i for i in range(1, 100000, 1000)]\n",
    "sizes = [ (i**2) for i in range(2,316,10)]\n",
    "print(sizes)"
   ]
  },
  {
   "cell_type": "markdown",
   "metadata": {},
   "source": [
    "### 2.2. Running each experiment 20 times, before taking average for each size"
   ]
  },
  {
   "cell_type": "code",
   "execution_count": 4,
   "metadata": {},
   "outputs": [
    {
     "data": {
      "image/png": "[encoded data removed]",
      "text/plain": [
       "<Figure size 432x288 with 1 Axes>"
      ]
     },
     "metadata": {
      "needs_background": "light"
     },
     "output_type": "display_data"
    }
   ],
   "source": [
    "t=0\n",
    "full=[]\n",
    "while t<20:\n",
    "    empty=[]\n",
    "    instances = [ random_instance(n) for n in sizes ]\n",
    "    for i in instances:\n",
    "        max_value =reuse_computation(i)\n",
    "        length=len(i)\n",
    "        full.append([length, max_value])\n",
    "    t+=1\n",
    "\n",
    "    \n",
    "average=[]\n",
    "for i in sizes:\n",
    "    whole=[]\n",
    "    for array in full:\n",
    "        if array[0] == i:\n",
    "            whole.append(array[1])\n",
    "    mean= sum(whole)/len(whole)\n",
    "    average.append([i,mean])\n",
    "    \n",
    "plt.plot([x[0] for x in average],[x[1] for x in average], 'o')\n",
    "plt.title(\"Average Expected Value vs Size of array\")\n",
    "plt.xlabel(\"Size (n)\")\n",
    "plt.ylabel(\"Average Expected Value(T(n))\")\n",
    "plt.show()"
   ]
  },
  {
   "cell_type": "markdown",
   "metadata": {},
   "source": [
    "From the graph, we can see that the average T(n) curves upwards as the size of the array, A, increases. This would mean T(n) is most likely $\\sqrt{n}$ or log n (taking base 2). So, taking a look at both cases:"
   ]
  },
  {
   "cell_type": "markdown",
   "metadata": {},
   "source": [
    "## 3. Finding F(n) for T(n)= Θ(F(n))"
   ]
  },
  {
   "cell_type": "markdown",
   "metadata": {},
   "source": [
    "If T(n)= Θ(F(n)), then, by definition, lim<sub>n→$\\infty$</sub>$\\frac{T(n)}{F(n)}$= some constant ,C. In that case, we'll divide T(n) by $\\sqrt{n}$ and log n, for every size n, and judge which is more likely to tend to a constant, based on each plot. "
   ]
  },
  {
   "cell_type": "markdown",
   "metadata": {},
   "source": [
    "### 3.1 If F(n)= $\\sqrt{n}$:"
   ]
  },
  {
   "cell_type": "code",
   "execution_count": 5,
   "metadata": {},
   "outputs": [
    {
     "data": {
      "image/png": "[encoded data removed]",
      "text/plain": [
       "<Figure size 432x288 with 1 Axes>"
      ]
     },
     "metadata": {
      "needs_background": "light"
     },
     "output_type": "display_data"
    }
   ],
   "source": [
    "t=0\n",
    "full=[]\n",
    "while t<20:\n",
    "    empty=[]\n",
    "    instances = [ random_instance(n) for n in sizes ]\n",
    "    for i in instances:\n",
    "        max_value =reuse_computation(i)\n",
    "        length=len(i)\n",
    "        full.append([length, max_value/sqrt(length)])\n",
    "    t+=1\n",
    "    \n",
    "average=[]\n",
    "for i in sizes:\n",
    "    whole=[]\n",
    "    for array in full:\n",
    "        if array[0] == i:\n",
    "            whole.append(array[1])\n",
    "    mean= sum(whole)/len(whole)\n",
    "    average.append([i,mean])\n",
    "    \n",
    "plt.plot([x[0] for x in average],[x[1] for x in average], 'o')\n",
    "plt.title(\"T(n)/F(n) vs Size of array  (Fig 3.1)\")\n",
    "plt.xlabel(\"Size (n)\")\n",
    "plt.ylabel(\"T(n)/F(n)\")\n",
    "plt.show()"
   ]
  },
  {
   "cell_type": "markdown",
   "metadata": {},
   "source": [
    "Due to the probabilistic nature of our draws for every size, while a straight line isn't possible to join all the points, almost all of them vary between a ratio of 0.8 and 1.2 despite differences in size, which makes it likely that it is tending to a constant."
   ]
  },
  {
   "cell_type": "markdown",
   "metadata": {},
   "source": [
    "### 3.2. If F(n)= log n:"
   ]
  },
  {
   "cell_type": "code",
   "execution_count": 6,
   "metadata": {},
   "outputs": [
    {
     "data": {
      "image/png": "[encoded data removed]",
      "text/plain": [
       "<Figure size 432x288 with 1 Axes>"
      ]
     },
     "metadata": {
      "needs_background": "light"
     },
     "output_type": "display_data"
    }
   ],
   "source": [
    "t=0\n",
    "full=[]\n",
    "while t<20:\n",
    "    empty=[]\n",
    "    instances = [ random_instance(n) for n in sizes ]\n",
    "    for i in instances:\n",
    "        max_value =reuse_computation(i)\n",
    "        length=len(i)\n",
    "        full.append([length, max_value/log(length,2)])\n",
    "    t+=1\n",
    "    \n",
    "average=[]\n",
    "for i in sizes:\n",
    "    whole=[]\n",
    "    for array in full:\n",
    "        if array[0] == i:\n",
    "            whole.append(array[1])\n",
    "    mean= sum(whole)/len(whole)\n",
    "    average.append([i,mean])\n",
    "    \n",
    "plt.plot([x[0] for x in average],[x[1] for x in average], 'o')\n",
    "plt.title(\"T(n)/F(n) vs Size of array  (Fig 3.2)\")\n",
    "plt.xlabel(\"Size (n)\")\n",
    "plt.ylabel(\"T(n)/F(n)\")\n",
    "plt.show()"
   ]
  },
  {
   "cell_type": "markdown",
   "metadata": {},
   "source": [
    "Here, we can see that the points are curving upwards, indicating that it is indeed influenced by the size and hence, its ratio is some function of n, not a constant. "
   ]
  },
  {
   "cell_type": "markdown",
   "metadata": {},
   "source": [
    "## 4. Conclusion"
   ]
  },
  {
   "cell_type": "markdown",
   "metadata": {},
   "source": [
    "From our plot of T(n) vs n, we were able to identify 2 functions for F(n) based on T(n)'s shape: $\\sqrt{n}$ and log n (base 2).\n",
    "From figure 3.1, the ratio of T(n) to $\\sqrt{n}$ varied constantly despite the size of A, indicating it is not a function of n, but is instead a constant. However, since the ratio did vary with size for our other option- log n in figure 3.2, we can safely conclude that F(n) is most likely $\\sqrt{n}$"
   ]
  }
 ],
 "metadata": {
  "kernelspec": {
   "display_name": "Python 3",
   "language": "python",
   "name": "python3"
  },
  "language_info": {
   "codemirror_mode": {
    "name": "ipython",
    "version": 3
   },
   "file_extension": ".py",
   "mimetype": "text/x-python",
   "name": "python",
   "nbconvert_exporter": "python",
   "pygments_lexer": "ipython3",
   "version": "3.7.3"
  }
 },
 "nbformat": 4,
 "nbformat_minor": 1
}
