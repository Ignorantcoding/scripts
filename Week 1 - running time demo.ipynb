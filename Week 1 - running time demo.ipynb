{
 "cells": [
  {
   "cell_type": "markdown",
   "metadata": {},
   "source": [
    "# Setting things up"
   ]
  },
  {
   "cell_type": "code",
   "execution_count": 2,
   "metadata": {},
   "outputs": [],
   "source": [
    "def naive(A):\n",
    "    \"\"\" find (i, j) maximizing A[i] + ... + A[j] \"\"\"\n",
    "\n",
    "    curr_val = 0\n",
    "    curr_ans = (None, None)\n",
    "    n = len(A)\n",
    "\n",
    "    for i in range(0, n):\n",
    "        for j in range(i+1, n):\n",
    "            aux = sum(A[x] for x in range(i, j+1))\n",
    "            if aux > curr_val:\n",
    "                curr_val = aux\n",
    "                curr_ans = (i, j)\n",
    "            \n",
    "    return curr_val\n",
    "\n",
    "def preprocessing(A):\n",
    "    \"\"\" find (i, j) maximizing A[i] + ... + A[j] \"\"\"\n",
    "\n",
    "    curr_val = 0\n",
    "    curr_ans = (None, None)\n",
    "    n=len(A)\n",
    "\n",
    "    # compute B[i] = A[0] + .. + A[i-1] \n",
    "    B = [None] * (n+1)\n",
    "    B[0] = 0\n",
    "    for i in range(0, n):\n",
    "        B[i+1] = B[i] + A[i]\n",
    "    for i in range(0, n):\n",
    "        for j in range(i+1, n):\n",
    "            aux = B[j + 1] - B[i]\n",
    "            if aux > curr_val:\n",
    "                curr_val = aux\n",
    "                curr_ans = (i, j)\n",
    "\n",
    "    return curr_val\n",
    "\n",
    "\n",
    "def reuse_computation(A):\n",
    "    \"\"\" find (i, j) maximizing A[i] + ... + A[j] \"\"\"\n",
    "\n",
    "    curr_val = 0\n",
    "    curr_ans = (None, None)\n",
    "    n=len(A)\n",
    "\n",
    "    # compute B[i] = A[0] + .. + A[i-1] \n",
    "    B = [None] * (n+1)\n",
    "    B[0] = 0\n",
    "    for i in range(0, n):\n",
    "        B[i+1] = B[i] + A[i]\n",
    "\n",
    "    #compute C[i]=maxB[j] fori<j≤n \n",
    "    C = [None] * (n + 1)\n",
    "    C[n] = (B[n], n)\n",
    "    for i in range(n-1, -1, -1):\n",
    "        if B[i] > C[i+1][0]:\n",
    "            C[i] = (B[i], i)\n",
    "        else:\n",
    "            C[i] = C[i+1]\n",
    "\n",
    "    for i in range(0, n):\n",
    "        aux = C[i][0] - B[i]\n",
    "        if aux > curr_val:\n",
    "            curr_val, curr_ans = aux, (i, C[i][1])\n",
    "\n",
    "    return curr_val"
   ]
  },
  {
   "cell_type": "code",
   "execution_count": 3,
   "metadata": {},
   "outputs": [
    {
     "data": {
      "text/plain": [
       "'def capped_function_timer(instances, function, time_bound = 2):\\n    \"\"\" returns function on instances, but stops once it takes more than time_bound \"\"\"\\n\\n    answer = []\\n    for x in instances:\\n        start = time()\\n        function(x)\\n        elapsed = time() - start\\n        answer.append(elapsed)        \\n        if elapsed > time_bound:\\n            break\\n\\n    return answer\\n    \\n\\n\\ndef plot_consecutive_ratios(sizes, runtimes, plotcolor=\\'blue\\'):\\n\\n    ratios = []\\n    for i in range(1,len(runtimes)):\\n        ratios.append(runtimes[i] / runtimes[i-1])\\n\\n    x = sizes[1:len(runtimes)]\\n    y = ratios \\n    plt.scatter(x,y,color=plotcolor)\\n    plt.xscale(\\'log\\')\\n    plt.xlabel(\\'size of instance\\')\\n    plt.ylabel(\\'T(2n)/T(n)\\')\\n    plt.xlim((2, 2 * max(sizes)))\\n\\ndef plot_runtimes(sizes, runtimes):\\n\\n    x = sizes[0:len(runtimes)]\\n    y = runtimes\\n    plt.scatter(x,y)\\n    plt.xlabel(\\'size of instance\\')\\n    plt.ylabel(\\'ratio of runtimes\\')'"
      ]
     },
     "execution_count": 3,
     "metadata": {},
     "output_type": "execute_result"
    }
   ],
   "source": [
    "import random\n",
    "import matplotlib.pyplot as plt\n",
    "from time import time\n",
    "import seaborn as sns\n",
    "\n",
    "\n",
    "def random_instance(n):\n",
    "    \"\"\" creates random instance of size n \"\"\"\n",
    "    a= [-1,0,1]\n",
    "    b=[]\n",
    "    for i in range(n):\n",
    "        b.append(random.choice(a))\n",
    "\n",
    "    return b\n",
    "\n",
    "\n",
    "'''def capped_function_timer(instances, function, time_bound = 2):\n",
    "    \"\"\" returns function on instances, but stops once it takes more than time_bound \"\"\"\n",
    "\n",
    "    answer = []\n",
    "    for x in instances:\n",
    "        start = time()\n",
    "        function(x)\n",
    "        elapsed = time() - start\n",
    "        answer.append(elapsed)        \n",
    "        if elapsed > time_bound:\n",
    "            break\n",
    "\n",
    "    return answer\n",
    "    \n",
    "\n",
    "\n",
    "def plot_consecutive_ratios(sizes, runtimes, plotcolor='blue'):\n",
    "\n",
    "    ratios = []\n",
    "    for i in range(1,len(runtimes)):\n",
    "        ratios.append(runtimes[i] / runtimes[i-1])\n",
    "\n",
    "    x = sizes[1:len(runtimes)]\n",
    "    y = ratios \n",
    "    plt.scatter(x,y,color=plotcolor)\n",
    "    plt.xscale('log')\n",
    "    plt.xlabel('size of instance')\n",
    "    plt.ylabel('T(2n)/T(n)')\n",
    "    plt.xlim((2, 2 * max(sizes)))\n",
    "\n",
    "def plot_runtimes(sizes, runtimes):\n",
    "\n",
    "    x = sizes[0:len(runtimes)]\n",
    "    y = runtimes\n",
    "    plt.scatter(x,y)\n",
    "    plt.xlabel('size of instance')\n",
    "    plt.ylabel('ratio of runtimes')'''"
   ]
  },
  {
   "cell_type": "markdown",
   "metadata": {},
   "source": [
    "# Run doubling experiments"
   ]
  },
  {
   "cell_type": "code",
   "execution_count": 4,
   "metadata": {},
   "outputs": [
    {
     "name": "stdout",
     "output_type": "stream",
     "text": [
      "[2, 4, 8, 16, 32, 64, 128, 256, 512, 1024, 2048, 4096, 8192, 16384, 32768, 65536, 131072, 262144, 524288]\n"
     ]
    }
   ],
   "source": [
    "sizes = [ 2**i for i in range(1, 20)]\n",
    "print(sizes)"
   ]
  },
  {
   "cell_type": "code",
   "execution_count": 11,
   "metadata": {},
   "outputs": [
    {
     "data": {
      "image/png": "[encoded data removed]",
      "text/plain": [
       "<Figure size 432x288 with 1 Axes>"
      ]
     },
     "metadata": {
      "needs_background": "light"
     },
     "output_type": "display_data"
    }
   ],
   "source": [
    "t=0\n",
    "\n",
    "while t<30:\n",
    "    empty=[]\n",
    "    instances = [ random_instance(n) for n in sizes ]\n",
    "    for i in instances:\n",
    "        max_value =reuse_computation(i)\n",
    "        empty.append([len(i), max_value])\n",
    "    plt.plot([x[0] for x in empty],[x[1] for x in empty])\n",
    "    t+=1\n",
    "    \n",
    "plt.show()\n"
   ]
  },
  {
   "cell_type": "code",
   "execution_count": null,
   "metadata": {},
   "outputs": [],
   "source": []
  },
  {
   "cell_type": "code",
   "execution_count": null,
   "metadata": {},
   "outputs": [],
   "source": []
  },
  {
   "cell_type": "code",
   "execution_count": null,
   "metadata": {},
   "outputs": [],
   "source": []
  },
  {
   "cell_type": "code",
   "execution_count": null,
   "metadata": {},
   "outputs": [],
   "source": [
    "naive_times = capped_function_timer(instances, naive)"
   ]
  },
  {
   "cell_type": "code",
   "execution_count": null,
   "metadata": {},
   "outputs": [],
   "source": [
    "preprocessing_times = capped_function_timer(instances, preprocessing)"
   ]
  },
  {
   "cell_type": "code",
   "execution_count": null,
   "metadata": {},
   "outputs": [],
   "source": [
    "reuse_times = capped_function_timer(instances, reuse_computation)"
   ]
  },
  {
   "cell_type": "markdown",
   "metadata": {},
   "source": [
    "# Plot consecutive ratios of T"
   ]
  },
  {
   "cell_type": "markdown",
   "metadata": {},
   "source": [
    "If $T(n) = \\Theta(n^d)$ then $T(2n)/T(n) \\rightarrow 2^d$ as $n \\rightarrow \\infty$"
   ]
  },
  {
   "cell_type": "code",
   "execution_count": null,
   "metadata": {},
   "outputs": [],
   "source": [
    "plot_consecutive_ratios(sizes, naive_times)"
   ]
  },
  {
   "cell_type": "code",
   "execution_count": null,
   "metadata": {},
   "outputs": [],
   "source": [
    "plot_consecutive_ratios(sizes, preprocessing_times)"
   ]
  },
  {
   "cell_type": "code",
   "execution_count": null,
   "metadata": {},
   "outputs": [],
   "source": [
    "plot_consecutive_ratios(sizes, reuse_times)"
   ]
  },
  {
   "cell_type": "markdown",
   "metadata": {},
   "source": [
    "## Guess complexity and plot T(n) / f(n)"
   ]
  },
  {
   "cell_type": "markdown",
   "metadata": {},
   "source": [
    "If $T(n) = \\Theta(f(n))$ then $T(n) / f(n) \\rightarrow c$ as $n \\rightarrow \\infty$ where $c > 0$ is a constant. \n",
    "\n",
    "Below we analyze the empirical behaviour of the pre-processing algorithm by comparing it to three guesses:\n",
    "- linear\n",
    "- quadratic\n",
    "- cubic"
   ]
  },
  {
   "cell_type": "code",
   "execution_count": null,
   "metadata": {},
   "outputs": [],
   "source": [
    "guess = lambda n: n\n",
    "ratios_linear =[T_n / guess(n) for (n, T_n) in zip(sizes, preprocessing_times)]\n",
    "plt.xlabel('log n')\n",
    "plt.ylabel('T(n) / n')\n",
    "plt.plot(ratios_linear)\n"
   ]
  },
  {
   "cell_type": "code",
   "execution_count": null,
   "metadata": {},
   "outputs": [],
   "source": [
    "guess = lambda n: n**2\n",
    "ratios_quadratic = [T_n / guess(n) for (n, T_n) in zip(sizes, preprocessing_times)]\n",
    "plt.xlabel('log n')\n",
    "plt.ylabel('T(n) / n^2')\n",
    "plt.plot(ratios_quadratic)"
   ]
  },
  {
   "cell_type": "code",
   "execution_count": null,
   "metadata": {},
   "outputs": [],
   "source": [
    "guess = lambda n: n**3\n",
    "ratios_cubic = [T_n / guess(n) for (n, T_n) in zip(sizes, preprocessing_times)]\n",
    "plt.plot(ratios_cubic)"
   ]
  },
  {
   "cell_type": "code",
   "execution_count": null,
   "metadata": {},
   "outputs": [],
   "source": []
  }
 ],
 "metadata": {
  "kernelspec": {
   "display_name": "Python 3",
   "language": "python",
   "name": "python3"
  },
  "language_info": {
   "codemirror_mode": {
    "name": "ipython",
    "version": 3
   },
   "file_extension": ".py",
   "mimetype": "text/x-python",
   "name": "python",
   "nbconvert_exporter": "python",
   "pygments_lexer": "ipython3",
   "version": "3.7.3"
  }
 },
 "nbformat": 4,
 "nbformat_minor": 1
}
