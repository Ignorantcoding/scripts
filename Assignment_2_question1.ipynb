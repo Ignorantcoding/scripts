{
 "cells": [
  {
   "cell_type": "markdown",
   "metadata": {},
   "source": [
    "# Question 1 of Assignment 2"
   ]
  },
  {
   "cell_type": "markdown",
   "metadata": {},
   "source": [
    "## 1. Setting things up"
   ]
  },
  {
   "cell_type": "markdown",
   "metadata": {},
   "source": [
    "### Creating the nodes for a binary tree"
   ]
  },
  {
   "cell_type": "code",
   "execution_count": 2,
   "metadata": {},
   "outputs": [],
   "source": [
    "class Node: \n",
    "    # Constructor to create a new node \n",
    "    def __init__(self, data): \n",
    "        self.data = data \n",
    "        self.left = None\n",
    "        self.right = None"
   ]
  },
  {
   "cell_type": "markdown",
   "metadata": {},
   "source": [
    "### Defining function to split list into nodes"
   ]
  },
  {
   "cell_type": "code",
   "execution_count": 73,
   "metadata": {},
   "outputs": [],
   "source": [
    "def find_minimum_split(perm):\n",
    "    \n",
    "    if len(perm)>1:\n",
    "        mini= perm.index(min(perm))\n",
    "        small= Node(min(perm))\n",
    "        \n",
    "    \n",
    "        left= perm[:mini]\n",
    "        small.left= perm[:mini]\n",
    "        \n",
    "        right= perm[mini+1:]\n",
    "        small.right= perm[mini+1:]\n",
    "        perm[mini]= small\n",
    "        \n",
    "        find_minimum_split(small.left)\n",
    "        find_minimum_split(small.right)"
   ]
  },
  {
   "cell_type": "markdown",
   "metadata": {},
   "source": [
    "### Forming the tree and calculating its height"
   ]
  },
  {
   "cell_type": "code",
   "execution_count": 151,
   "metadata": {},
   "outputs": [],
   "source": [
    "#Due to how it's coded above, we get a list with node, as well as each number when splitted, \n",
    "#so to get only the node and hence, get our tree:\n",
    "def visit(a):\n",
    "    if isinstance(a, int):\n",
    "        print(a)\n",
    "    else:\n",
    "        if len(a.left)!=0:\n",
    "            for i in a.left:\n",
    "                if isinstance(i,Node):\n",
    "                    a.left=i #Once we get node, make the list the node itself\n",
    "                    visit(a.left) #Continue along this path\n",
    "                    break\n",
    "            \n",
    "                \n",
    "        if len(a.right)!=0:\n",
    "            for i in a.right:\n",
    "                if isinstance(i,Node):\n",
    "                    a.right=i\n",
    "                    visit(a.right)\n",
    "                    break\n",
    "\n",
    "def maxDepth(node): \n",
    "    if type(node) is list: \n",
    "        if node==[]:\n",
    "            return 0\n",
    "        else:\n",
    "            if len(node)==1:\n",
    "                return 1\n",
    "    if isinstance(node, int):\n",
    "    #This occurs only at root\n",
    "        pass\n",
    "    else: \n",
    "\n",
    "        # Compute the depth of each subtree \n",
    "        left_Depth = maxDepth(node.left) \n",
    "        right_Depth = maxDepth(node.right) \n",
    "  \n",
    "        # Use the larger one \n",
    "        if (left_Depth > right_Depth): \n",
    "            return left_Depth+1\n",
    "        else: \n",
    "            return right_Depth+1\n",
    "\n",
    "##Code for height from here: https://www.geeksforgeeks.org/write-a-c-program-to-find-the-maximum-depth-or-height-of-a-tree/"
   ]
  },
  {
   "cell_type": "markdown",
   "metadata": {},
   "source": [
    "## 2. Running doubling experiments"
   ]
  },
  {
   "cell_type": "markdown",
   "metadata": {},
   "source": [
    "### First, getting different sizes for permutation"
   ]
  },
  {
   "cell_type": "code",
   "execution_count": 154,
   "metadata": {},
   "outputs": [
    {
     "name": "stdout",
     "output_type": "stream",
     "text": [
      "[4, 9, 16, 25, 36, 49, 64, 81, 100, 121, 144, 169, 196, 225, 256, 289, 324, 361, 400, 441, 484, 529, 576, 625, 676, 729, 784, 841, 900, 961, 1024, 1089, 1156, 1225, 1296, 1369, 1444, 1521, 1600, 1681, 1764, 1849, 1936, 2025, 2116, 2209, 2304, 2401, 2500, 2601, 2704, 2809, 2916, 3025, 3136, 3249, 3364, 3481, 3600, 3721, 3844, 3969, 4096, 4225, 4356, 4489, 4624, 4761, 4900, 5041, 5184, 5329, 5476, 5625, 5776, 5929, 6084, 6241, 6400, 6561, 6724, 6889, 7056, 7225, 7396, 7569, 7744, 7921, 8100, 8281, 8464, 8649, 8836, 9025, 9216, 9409, 9604, 9801]\n"
     ]
    }
   ],
   "source": [
    "#sizes = [ i for i in range(1, 100000, 1000)]\n",
    "sizes = [ (i**2) for i in range(2,100,1)]\n",
    "print(sizes)"
   ]
  },
  {
   "cell_type": "markdown",
   "metadata": {},
   "source": [
    "### Taking 10 permutations (lesser if length < 10) before plotting average for each size"
   ]
  },
  {
   "cell_type": "code",
   "execution_count": 155,
   "metadata": {},
   "outputs": [
    {
     "data": {
      "image/png": "[encoded data removed]",
      "text/plain": [
       "<Figure size 432x288 with 1 Axes>"
      ]
     },
     "metadata": {
      "needs_background": "light"
     },
     "output_type": "display_data"
    }
   ],
   "source": [
    "import random\n",
    "import matplotlib.pyplot as plt\n",
    "\n",
    "def find_heights(n):\n",
    "    list_n= list(range(1,n+1)) #So, if n is 10, we get list of length 10\n",
    "    if n < 11:\n",
    "        k= n\n",
    "    else:\n",
    "        k= 10\n",
    "    heights=[]\n",
    "    for i in range(k):\n",
    "        random.shuffle(list_n)\n",
    "        list_h= list_n.copy()#otherwise list_n is modified by find_minimum\n",
    "        \n",
    "        find_minimum_split(list_h)\n",
    "        \n",
    "        visit(list_h[list_n.index(min(list_n))])\n",
    "        \n",
    "        height= maxDepth(list_h[list_n.index(min(list_n))])\n",
    "        heights.append(height)\n",
    "    average= sum(heights)/len(heights)    \n",
    "    return [n,average]\n",
    "\n",
    "averages=[]\n",
    "for i in sizes:\n",
    "    averages.append(find_heights(i))\n",
    "    \n",
    "plt.plot([x[0] for x in averages],[x[1] for x in averages], 'o')\n",
    "plt.title(\"Expected Height vs Size of array\")\n",
    "plt.xlabel(\"Size (n)\")\n",
    "plt.ylabel(\"Expected Height(H(n))\")\n",
    "plt.show()\n"
   ]
  },
  {
   "cell_type": "markdown",
   "metadata": {},
   "source": [
    "Here, we'll note that strictly speaking, we're only finding the Average height of the tree, which is a point approximate of the Expected Height H(n).\n",
    "From the graph, we note that initially, H(n) curves upwards sharply, before 'slowing' down, i.e. we can see the growth rate decreasing as n increases. This suggests that H(n) is most likely $\\sqrt{n}$ or log n (taking base 2). \n",
    "So, this would mean that there would be linear dependency between H(n) and log n, if plotted on a log-log scale:"
   ]
  },
  {
   "cell_type": "code",
   "execution_count": 156,
   "metadata": {},
   "outputs": [
    {
     "data": {
      "image/png": "[encoded data removed]",
      "text/plain": [
       "<Figure size 432x288 with 1 Axes>"
      ]
     },
     "metadata": {
      "needs_background": "light"
     },
     "output_type": "display_data"
    }
   ],
   "source": [
    "from math import sqrt, log\n",
    "def find_heights_logged(n):\n",
    "    list_n= list(range(1,n+1)) #So, if n is 10, we get list of length 10\n",
    "    if n < 11:\n",
    "        k= n\n",
    "    else:\n",
    "        k= 10\n",
    "    heights=[]\n",
    "    for i in range(k):\n",
    "        random.shuffle(list_n)\n",
    "        list_h= list_n.copy()#otherwise list_n is modified by find_minimum\n",
    "        \n",
    "        find_minimum_split(list_h)\n",
    "        \n",
    "        visit(list_h[list_n.index(min(list_n))])\n",
    "        \n",
    "        height= maxDepth(list_h[list_n.index(min(list_n))])\n",
    "        heights.append(log(float(height),2))\n",
    "    average= sum(heights)/len(heights)    \n",
    "    return [log(n,2),average]\n",
    "\n",
    "averages=[]\n",
    "for i in sizes:\n",
    "    averages.append(find_heights_logged(i))\n",
    "    \n",
    "plt.plot([x[0] for x in averages],[x[1] for x in averages], 'o')\n",
    "plt.title(\"Log of Expected Height vs Log of Size of array\")\n",
    "plt.xlabel(\"Log of Size (n)\")\n",
    "plt.ylabel(\"Log of Expected Height(H(n))\")\n",
    "plt.show()"
   ]
  },
  {
   "cell_type": "markdown",
   "metadata": {},
   "source": [
    "And as we can see, we get a linear trend, hence, showing that it's true."
   ]
  },
  {
   "cell_type": "markdown",
   "metadata": {},
   "source": [
    "## 3. Finding F(n) for H(n)= Θ(F(n))"
   ]
  },
  {
   "cell_type": "markdown",
   "metadata": {},
   "source": [
    "If H(n)= Θ(F(n)), then, by definition, lim<sub>n→$\\infty$</sub>$\\frac{H(n)}{F(n)}$= some constant ,C. In that case, we'll divide T(n) by $\\sqrt{n}$ and log n, for every size n, and by judging which is more likely to tend to a constant, based on each plot, we find F(n)."
   ]
  },
  {
   "cell_type": "markdown",
   "metadata": {},
   "source": [
    "###  If F(n)= $\\sqrt{n}$:"
   ]
  },
  {
   "cell_type": "code",
   "execution_count": 157,
   "metadata": {},
   "outputs": [
    {
     "data": {
      "image/png": "[encoded data removed]",
      "text/plain": [
       "<Figure size 432x288 with 1 Axes>"
      ]
     },
     "metadata": {
      "needs_background": "light"
     },
     "output_type": "display_data"
    }
   ],
   "source": [
    "from math import sqrt, log\n",
    "def find_heights_sqrt(n):\n",
    "    list_n= list(range(1,n+1)) #So, if n is 10, we get list of length 10\n",
    "    if n < 11:\n",
    "        k= n\n",
    "    else:\n",
    "        k= 10\n",
    "    heights=[]\n",
    "    for i in range(k):\n",
    "        random.shuffle(list_n)\n",
    "        list_h= list_n.copy()#otherwise list_n is modified by find_minimum\n",
    "        \n",
    "        find_minimum_split(list_h)\n",
    "        \n",
    "        visit(list_h[list_n.index(min(list_n))])\n",
    "        \n",
    "        height= maxDepth(list_h[list_n.index(min(list_n))])\n",
    "        heights.append(float(height)/sqrt(n))\n",
    "    average= sum(heights)/len(heights)    \n",
    "    return [n,average]\n",
    "\n",
    "averages=[]\n",
    "for i in sizes:\n",
    "    averages.append(find_heights_sqrt(i))\n",
    "    \n",
    "plt.plot([x[0] for x in averages],[x[1] for x in averages], 'o')\n",
    "plt.title(\"Expected Height/Sqrt vs Size of array\")\n",
    "plt.xlabel(\"Size (n)\")\n",
    "plt.ylabel(\"Expected Height(H(n))\")\n",
    "plt.show()"
   ]
  },
  {
   "cell_type": "markdown",
   "metadata": {},
   "source": [
    "Here, we can clearly see that the points are curving downwards, hence indicating that it is indeed influenced by size. As a result, this means its ratio will be a function of n, not a constant as n→$\\infty$."
   ]
  },
  {
   "cell_type": "markdown",
   "metadata": {},
   "source": [
    "### If F(n)= log n:"
   ]
  },
  {
   "cell_type": "code",
   "execution_count": 158,
   "metadata": {},
   "outputs": [
    {
     "data": {
      "image/png": "[encoded data removed]",
      "text/plain": [
       "<Figure size 432x288 with 1 Axes>"
      ]
     },
     "metadata": {
      "needs_background": "light"
     },
     "output_type": "display_data"
    }
   ],
   "source": [
    "def find_heights_log(n):\n",
    "    list_n= list(range(1,n+1)) #So, if n is 10, we get list of length 10\n",
    "    if n < 11:\n",
    "        k= n\n",
    "    else:\n",
    "        k= 10\n",
    "    heights=[]\n",
    "    for i in range(k):\n",
    "        random.shuffle(list_n)\n",
    "        list_h= list_n.copy()#otherwise list_n is modified by find_minimum\n",
    "        \n",
    "        find_minimum_split(list_h)\n",
    "        \n",
    "        visit(list_h[list_n.index(min(list_n))])\n",
    "        \n",
    "        height= maxDepth(list_h[list_n.index(min(list_n))])\n",
    "        heights.append(float(height)/log(n,2))\n",
    "    average= sum(heights)/len(heights)    \n",
    "    return [n,average]\n",
    "\n",
    "averages=[]\n",
    "for i in sizes:\n",
    "    averages.append(find_heights_log(i))\n",
    "    \n",
    "plt.plot([x[0] for x in averages],[x[1] for x in averages], 'o')\n",
    "plt.title(\"Expected Height/log vs Size of array\")\n",
    "plt.xlabel(\"Size (n)\")\n",
    "plt.ylabel(\"Expected Height(H(n))\")\n",
    "plt.show()"
   ]
  },
  {
   "cell_type": "markdown",
   "metadata": {},
   "source": [
    "Here, while it may not look linear, we can see that once we disregard the intial few 10 or 20 points, the rest of the points seem to vary between a constant of 2.1 to 2.5. While the variation occurs due to the probabilistic nature of our permuatations for every size, we can see that this variation is not dependent on the size of our array or permutation. As a result, it most likely is tending to a constant as n→$\\infty$."
   ]
  },
  {
   "cell_type": "markdown",
   "metadata": {},
   "source": [
    "## 4. Conclusion"
   ]
  },
  {
   "cell_type": "markdown",
   "metadata": {},
   "source": [
    "From our plot of H(n) vs n, we were able to identify 2 functions for H(n) based on its shape: $\\sqrt{n}$\n",
    "and log n (base 2). While the ratio of T(n) to log 𝑛 varied constantly despite the size of A, the ratio did vary with size for our other option- $\\sqrt{n}$, with the graph curving downwards as n increased. As a result, we can safely conclude that F(n) is most likely log 𝑛."
   ]
  }
 ],
 "metadata": {
  "kernelspec": {
   "display_name": "Python 3",
   "language": "python",
   "name": "python3"
  },
  "language_info": {
   "codemirror_mode": {
    "name": "ipython",
    "version": 3
   },
   "file_extension": ".py",
   "mimetype": "text/x-python",
   "name": "python",
   "nbconvert_exporter": "python",
   "pygments_lexer": "ipython3",
   "version": "3.7.3"
  }
 },
 "nbformat": 4,
 "nbformat_minor": 2
}
