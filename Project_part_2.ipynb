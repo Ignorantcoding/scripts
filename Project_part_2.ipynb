{
 "cells": [
  {
   "cell_type": "code",
   "execution_count": null,
   "metadata": {},
   "outputs": [],
   "source": [
    "import pandas as pd\n",
    "import matplotlib.pyplot as plt\n",
    "df= pd.read_csv('C:/Users/Danny Chacko/Downloads/DTMlemma.csv')\n",
    "def s(word):\n",
    "    return word.strip()\n",
    "df['Date']= pd.to_datetime(df['Date'].apply(s)) #set all dates to datetime object"
   ]
  },
  {
   "cell_type": "code",
   "execution_count": null,
   "metadata": {},
   "outputs": [],
   "source": [
    "from datetime import datetime as dt\n",
    "a= df.sort_values(by='Date')#sorting datetime object by date\n",
    "a['Date'] = a['Date'].dt.strftime(\"%m\") + a['Date'].dt.strftime(\"%Y\")#isolates month and year before combining them"
   ]
  },
  {
   "cell_type": "code",
   "execution_count": null,
   "metadata": {},
   "outputs": [],
   "source": [
    "#For Trump\n",
    "import matplotlib.pyplot as plt\n",
    "trump_dict={}\n",
    "Trump_full = a[a['Name'] == 'Donald Trump']\n",
    "t_police = Trump_full.filter(['police','Date']) #get police and Date columns\n",
    "t_months = t_police['Date'].unique().tolist() #get list of unique months\n",
    "for month in t_months:\n",
    "    month_police= t_police[t_police['Date'] == month].sum(axis=0)#add up frequencies monthwise\n",
    "    trump_dict[month]= float(month_police.drop('Date'))#drop date column from our dataset\n",
    "print(trump_dict)\n",
    "\n",
    "#to see frequency distribution of police across each month\n",
    "plt.title(\"Trump's words\")\n",
    "plt.bar(range(len(trump_dict)), list(trump_dict.values()), align='center')\n",
    "plt.xticks(range(len(trump_dict)), list(trump_dict.keys())) #X-label now is words"
   ]
  },
  {
   "cell_type": "code",
   "execution_count": null,
   "metadata": {},
   "outputs": [],
   "source": [
    "#For Theresa\n",
    "import matplotlib.pyplot as plt\n",
    "import numpy as np\n",
    "theresa_dict={}\n",
    "Theresa_full = a[a['Name'] == 'Theresa May']\n",
    "m_police = Theresa_full.filter(['police','Date'])\n",
    "m_months = m_police['Date'].unique().tolist()\n",
    "for month in t_months:\n",
    "    month_police= m_police[m_police['Date'] == month].sum(axis=0)\n",
    "    theresa_dict[month]= float(month_police.drop('Date'))\n",
    "print(theresa_dict)\n",
    "\n",
    "plt.title(\"Theresa's words\")\n",
    "plt.bar(range(len(theresa_dict)), list(theresa_dict.values()), align='center')\n",
    "plt.xticks(range(len(theresa_dict)), list(theresa_dict.keys())) #X-label now is words"
   ]
  },
  {
   "cell_type": "code",
   "execution_count": null,
   "metadata": {},
   "outputs": [],
   "source": [
    "#For Scott\n",
    "scott_dict={}\n",
    "Scott_full = a[a['Name'] == 'Scott Morrison']\n",
    "Sc_police = Scott_full.filter(['police','Date'])\n",
    "Sc_months = Sc_police['Date'].unique().tolist()\n",
    "for month in Sc_months:\n",
    "    month_police= Sc_police[Sc_police['Date'] == month].sum(axis=0)\n",
    "    scott_dict[month]= float(month_police.drop('Date'))\n",
    "print(scott_dict)\n",
    "\n",
    "plt.title(\"Scott's words\")\n",
    "plt.bar(range(len(scott_dict)), list(scott_dict.values()), align='center')\n",
    "plt.xticks(range(len(scott_dict)), list(scott_dict.keys())) #X-label now is words"
   ]
  },
  {
   "cell_type": "code",
   "execution_count": null,
   "metadata": {},
   "outputs": [],
   "source": [
    "#Correlation overall\n",
    "%matplotlib notebook\n",
    "from scipy.stats import spearmanr\n",
    "#plt.plot(list(theresa_dict.values()), list(trump_dict.values()))\n",
    "def compare_2_dicts(dict_1, dict_2, person1, person2, word):\n",
    "    keyword= []\n",
    "    nums=[]\n",
    "    dict1= dict_1.copy() #.copy to ensure original dictionary is not altered\n",
    "    dict2= dict_2.copy()\n",
    "    for key in dict1:\n",
    "        if key not in dict2:\n",
    "            dict2[key]= float(0)\n",
    "    for key in dict2:\n",
    "        if key not in dict1:\n",
    "            dict1[key]= float(0)#these ensure there won't be a month that only one of the dictionaries has\n",
    "        for num in key:\n",
    "            nums.append(num)\n",
    "        keyword.append(nums[-4]+nums[-3]+nums[-2]+nums[-1])#to get year\n",
    "\n",
    "    keyword= set(keyword)#to get unique years\n",
    "    for year in keyword:\n",
    "        plot_dict1=[]\n",
    "        plot_dict2=[]\n",
    "        for key in dict1:\n",
    "            if \"122\" not in key and dict1[key] != 0:\n",
    "                \n",
    "                key1= str(int(key)+10000)\n",
    "                if len(key1) < 6:\n",
    "                    key1= \"0\" + key1 #key1 is now 1 month ahead of key\n",
    "                if key1 not in dict2:\n",
    "                    pass\n",
    "                else:\n",
    "                    if dict2[key1] == 0:\n",
    "                        dict1[key1] += dict1[key]#If no value of Trump, add May's frequency of police to next month\n",
    "                    else:\n",
    "                        plot_dict2.append(dict2[key1])\n",
    "                        plot_dict1.append(dict1[key])#get lists of frequencies to plot scatterplot\n",
    "\n",
    "        plt.scatter(plot_dict1, plot_dict2)\n",
    "        plt.title(word)\n",
    "        plt.xlabel(person1)\n",
    "        plt.ylabel(person2)\n",
    "        return plot_dict1, plot_dict2\n",
    "\n",
    "list1, list2= compare_2_dicts(theresa_dict, trump_dict, \"Theresa May\", \"Donald Trump\", \"police\")\n",
    "list3, list4= compare_2_dicts(theresa_dict, scott_dict, \"Theresa May\", \"Scott Morrison\", \"police\")\n",
    "list5, list6= compare_2_dicts(trump_dict, scott_dict, \"Donald Trump\", \"Scott Morrison\", \"police\")\n",
    "print(spearmanr(list1, list2))\n",
    "print(spearmanr(list3, list4))\n",
    "print(spearmanr(list5, list6))"
   ]
  },
  {
   "cell_type": "code",
   "execution_count": null,
   "metadata": {},
   "outputs": [],
   "source": [
    "trump_china_dict={}\n",
    "Trump_full = a[a['Name'] == 'Donald Trump']\n",
    "t_china = Trump_full.filter(['china','Date'])\n",
    "t_months = t_china['Date'].unique().tolist()\n",
    "#t_police[t_police['Date'] == t_months[0]]\n",
    "for month in t_months:\n",
    "    month_china= t_china[t_china['Date'] == month].sum(axis=0)\n",
    "    trump_china_dict[month]= float(month_china.drop('Date'))\n",
    "print(trump_china_dict)\n",
    "\n",
    "\n",
    "plt.title(\"Trump's word- China\")\n",
    "plt.bar(range(len(trump_china_dict)), list(trump_china_dict.values()), align='center')\n",
    "plt.xticks(range(len(trump_china_dict)), list(trump_china_dict.keys())) #X-label now is words"
   ]
  },
  {
   "cell_type": "code",
   "execution_count": null,
   "metadata": {},
   "outputs": [],
   "source": [
    "theresa_china_dict={}\n",
    "Theresa_full = a[a['Name'] == 'Theresa May']\n",
    "m_china = Theresa_full.filter(['china','Date'])\n",
    "m_months = m_china['Date'].unique().tolist()\n",
    "for month in t_months:\n",
    "    month_china = m_china[m_china['Date'] == month].sum(axis=0)\n",
    "    theresa_china_dict[month]= float(month_china.drop('Date'))\n",
    "print(theresa_china_dict)\n",
    "\n",
    "plt.title(\"Theresa's words\")\n",
    "plt.bar(range(len(theresa_china_dict)), list(theresa_china_dict.values()), align='center')\n",
    "plt.xticks(range(len(theresa_china_dict)), list(theresa_china_dict.keys())) #X-label now is words"
   ]
  },
  {
   "cell_type": "code",
   "execution_count": null,
   "metadata": {},
   "outputs": [],
   "source": [
    "#For Scott\n",
    "scott_china_dict={}\n",
    "Scott_full = a[a['Name'] == 'Scott Morrison']\n",
    "Sc_china = Scott_full.filter(['china','Date'])\n",
    "Sc_months = Sc_china['Date'].unique().tolist()\n",
    "for month in Sc_months:\n",
    "    month_china = Sc_china[Sc_china['Date'] == month].sum(axis=0)\n",
    "    scott_china_dict[month]= float(month_china.drop('Date'))\n",
    "print(scott_china_dict)\n",
    "\n",
    "plt.title(\"Scott's words\")\n",
    "plt.bar(range(len(scott_china_dict)), list(scott_china_dict.values()), align='center')\n",
    "plt.xticks(range(len(scott_china_dict)), list(scott_china_dict.keys())) #X-label now is words"
   ]
  },
  {
   "cell_type": "code",
   "execution_count": null,
   "metadata": {},
   "outputs": [],
   "source": [
    "%matplotlib notebook\n",
    "from scipy.stats import spearmanr\n",
    "\n",
    "\n",
    "china_list1, china_list2= compare_2_dicts(theresa_china_dict, trump_china_dict, \"Theresa May\", \"Donald Trump\", \"china\")\n",
    "china_list3, china_list4= compare_2_dicts(theresa_china_dict, scott_china_dict, \"Theresa May\", \"Scott Morrison\", \"china\")\n",
    "china_list5, china_list6= compare_2_dicts(trump_china_dict, scott_china_dict, \"Donald Trump\", \"Scott Morrison\", \"china\")\n",
    "print(spearmanr(china_list1, china_list2))#prints correlation coefficient\n",
    "print(spearmanr(china_list3, china_list4))\n",
    "print(spearmanr(china_list5, china_list6))"
   ]
  }
 ],
 "metadata": {
  "kernelspec": {
   "display_name": "Python 3",
   "language": "python",
   "name": "python3"
  },
  "language_info": {
   "codemirror_mode": {
    "name": "ipython",
    "version": 3
   },
   "file_extension": ".py",
   "mimetype": "text/x-python",
   "name": "python",
   "nbconvert_exporter": "python",
   "pygments_lexer": "ipython3",
   "version": "3.7.3"
  }
 },
 "nbformat": 4,
 "nbformat_minor": 2
}
